{
 "cells": [
  {
   "cell_type": "code",
   "execution_count": 1,
   "id": "73854523-efbd-4bcd-a2c5-44627691814c",
   "metadata": {},
   "outputs": [],
   "source": [
    "import pandas as pd\n",
    "import numpy as np\n",
    "from sklearn.decomposition import PCA\n",
    "from sklearn.preprocessing import StandardScaler\n",
    "import pickle"
   ]
  },
  {
   "cell_type": "code",
   "execution_count": 2,
   "id": "1d6b59e0-5c5d-4a75-8f73-991102d8dacf",
   "metadata": {},
   "outputs": [],
   "source": [
    "from sklearn import datasets\n",
    "data_breast_cancer = datasets.load_breast_cancer()\n",
    "\n",
    "X_dbc, y_dbc = data_breast_cancer['data'], data_breast_cancer['target']"
   ]
  },
  {
   "cell_type": "code",
   "execution_count": 3,
   "id": "b53c9f18-aa5e-41d1-9dda-471574ce4d20",
   "metadata": {},
   "outputs": [],
   "source": [
    "from sklearn.datasets import load_iris\n",
    "data_iris = load_iris()\n",
    "\n",
    "X_i, y_i = data_iris['data'], data_iris['target']"
   ]
  },
  {
   "cell_type": "code",
   "execution_count": 4,
   "id": "447bed8b-803c-4b51-91ba-625f5b16366a",
   "metadata": {},
   "outputs": [
    {
     "name": "stdout",
     "output_type": "stream",
     "text": [
      "(569, 30) (569, 1)\n",
      "[0.98204467]\n"
     ]
    }
   ],
   "source": [
    "pca_dbc = PCA(n_components = 0.9) \n",
    "XnD_dbc = pca_dbc.fit_transform(X_dbc)\n",
    "print(X_dbc.shape , XnD_dbc.shape)\n",
    "print(pca_dbc.explained_variance_ratio_)"
   ]
  },
  {
   "cell_type": "code",
   "execution_count": 5,
   "id": "1c01daf4-bfa8-4c02-82d4-88b00bacb1e0",
   "metadata": {},
   "outputs": [
    {
     "name": "stdout",
     "output_type": "stream",
     "text": [
      "(150, 4) (150, 1)\n",
      "[0.92461872]\n"
     ]
    }
   ],
   "source": [
    "pca_i = PCA(n_components = 0.9)\n",
    "XnD_i = pca_i.fit_transform(X_i)\n",
    "print(X_i.shape, XnD_i.shape)\n",
    "print(pca_i.explained_variance_ratio_)"
   ]
  },
  {
   "cell_type": "code",
   "execution_count": 6,
   "id": "c345c864-bac5-46b5-8581-64a4ed713d39",
   "metadata": {},
   "outputs": [],
   "source": [
    "scaler_dbc = StandardScaler()\n",
    "scaler_dbc.fit(X_dbc)\n",
    "X_dbc_sc = scaler_dbc.transform(X_dbc)"
   ]
  },
  {
   "cell_type": "code",
   "execution_count": 7,
   "id": "567689d3-b50d-430b-9c76-ad65c11c4377",
   "metadata": {},
   "outputs": [
    {
     "name": "stdout",
     "output_type": "stream",
     "text": [
      "(569, 30) (569, 7)\n",
      "[0.44272026 0.18971182 0.09393163 0.06602135 0.05495768 0.04024522\n",
      " 0.02250734]\n"
     ]
    }
   ],
   "source": [
    "pca_dbc_sc = PCA(n_components = 0.9)\n",
    "XnD_dbc_sc = pca_dbc_sc.fit_transform(X_dbc_sc)\n",
    "print(X_dbc_sc.shape, XnD_dbc_sc.shape)\n",
    "lista_dbc = pca_dbc_sc.explained_variance_ratio_\n",
    "print(lista_dbc)"
   ]
  },
  {
   "cell_type": "code",
   "execution_count": 8,
   "id": "1f7e55ca-bd98-4b0b-ab14-f1aefe553f2d",
   "metadata": {},
   "outputs": [],
   "source": [
    "scaler_i = StandardScaler()\n",
    "X_i_sc = scaler_i.fit_transform(X_i)"
   ]
  },
  {
   "cell_type": "code",
   "execution_count": 9,
   "id": "d8e8590b-bd84-45e4-a04d-f70d5d4dfeb9",
   "metadata": {},
   "outputs": [
    {
     "name": "stdout",
     "output_type": "stream",
     "text": [
      "(150, 4) (150, 2)\n",
      "[0.72962445 0.22850762]\n"
     ]
    }
   ],
   "source": [
    "pca_i_sc = PCA(n_components = 0.9)\n",
    "XnD_i_sc = pca_i_sc.fit_transform(X_i_sc)\n",
    "print(X_i_sc.shape, XnD_i_sc.shape)\n",
    "lista_i = pca_i_sc.explained_variance_ratio_\n",
    "print(lista_i)"
   ]
  },
  {
   "cell_type": "code",
   "execution_count": 10,
   "id": "845a2165-8e21-4c2b-b23a-013f696c4aec",
   "metadata": {},
   "outputs": [],
   "source": [
    "f1 = open(\"pca_bc.pkl\", \"wb\")\n",
    "pickle.dump(lista_dbc, f1)"
   ]
  },
  {
   "cell_type": "code",
   "execution_count": 11,
   "id": "77a4226b-5ec0-49ee-bde4-bdc6514a2c5b",
   "metadata": {},
   "outputs": [],
   "source": [
    "f2 = open(\"pca_ir.pkl\", \"wb\")\n",
    "pickle.dump(lista_i, f2)"
   ]
  },
  {
   "cell_type": "code",
   "execution_count": 12,
   "id": "dd3ca828-210e-4011-a75b-689a3ca7cfd6",
   "metadata": {},
   "outputs": [
    {
     "data": {
      "text/plain": [
       "array([[ 0.52106591, -0.26934744,  0.5804131 ,  0.56485654],\n",
       "       [ 0.37741762,  0.92329566,  0.02449161,  0.06694199]])"
      ]
     },
     "execution_count": 12,
     "metadata": {},
     "output_type": "execute_result"
    }
   ],
   "source": [
    "pca_i_sc.components_"
   ]
  },
  {
   "cell_type": "code",
   "execution_count": null,
   "id": "461ac5f2-8afb-4e25-85cf-1e4f5d885b22",
   "metadata": {},
   "outputs": [],
   "source": []
  },
  {
   "cell_type": "code",
   "execution_count": 13,
   "id": "08fcfa0d-38a4-4e25-b23b-10bb1e860f9f",
   "metadata": {},
   "outputs": [],
   "source": [
    "list_idx_bc = []\n",
    "for e in pca_dbc_sc.components_:\n",
    "    list_idx_bc.append(e.argmax())"
   ]
  },
  {
   "cell_type": "code",
   "execution_count": 14,
   "id": "b0b23833-e32b-48b9-9e8e-e59b854e526d",
   "metadata": {},
   "outputs": [
    {
     "data": {
      "text/plain": [
       "[7, 9, 11, 4, 16, 28, 29]"
      ]
     },
     "execution_count": 14,
     "metadata": {},
     "output_type": "execute_result"
    }
   ],
   "source": [
    "list_idx_bc"
   ]
  },
  {
   "cell_type": "code",
   "execution_count": 15,
   "id": "615a219d-fa7f-499e-9610-4a4d7339933e",
   "metadata": {},
   "outputs": [],
   "source": [
    "list_idx_i = []\n",
    "for e in pca_i_sc.components_:\n",
    "    list_idx_i.append(e.argmax())"
   ]
  },
  {
   "cell_type": "code",
   "execution_count": 16,
   "id": "9eb1f708-caeb-4f3c-a7ff-b4b5b1e07fae",
   "metadata": {},
   "outputs": [
    {
     "data": {
      "text/plain": [
       "[2, 1]"
      ]
     },
     "execution_count": 16,
     "metadata": {},
     "output_type": "execute_result"
    }
   ],
   "source": [
    "list_idx_i"
   ]
  },
  {
   "cell_type": "code",
   "execution_count": 17,
   "id": "3aefe327-9474-4615-a7b5-be11c3037823",
   "metadata": {},
   "outputs": [],
   "source": [
    "f3 = open(\"idx_bc.pkl\", \"wb\")\n",
    "pickle.dump(list_idx_bc, f3)"
   ]
  },
  {
   "cell_type": "code",
   "execution_count": 18,
   "id": "169816ab-422a-4e44-b2aa-284edbf6ebe6",
   "metadata": {},
   "outputs": [],
   "source": [
    "f4 = open(\"idx_ir.pkl\", \"wb\")\n",
    "pickle.dump(list_idx_i, f4)"
   ]
  },
  {
   "cell_type": "code",
   "execution_count": null,
   "id": "991880da-e458-46b7-b36e-22f96b98525f",
   "metadata": {},
   "outputs": [],
   "source": []
  }
 ],
 "metadata": {
  "kernelspec": {
   "display_name": "Python 3 (ipykernel)",
   "language": "python",
   "name": "python3"
  },
  "language_info": {
   "codemirror_mode": {
    "name": "ipython",
    "version": 3
   },
   "file_extension": ".py",
   "mimetype": "text/x-python",
   "name": "python",
   "nbconvert_exporter": "python",
   "pygments_lexer": "ipython3",
   "version": "3.9.7"
  }
 },
 "nbformat": 4,
 "nbformat_minor": 5
}

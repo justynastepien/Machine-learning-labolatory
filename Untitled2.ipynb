{
 "cells": [
  {
   "cell_type": "code",
   "execution_count": 1,
   "id": "b3159f48-8ca0-45a5-b6f3-316d6b305777",
   "metadata": {},
   "outputs": [],
   "source": [
    "import pandas as pd\n",
    "import numpy as np\n",
    "from sklearn.tree import DecisionTreeClassifier\n",
    "from sklearn.tree import export_graphviz\n",
    "import graphviz\n",
    "from sklearn.metrics import f1_score\n",
    "import matplotlib.pyplot as plt\n",
    "from sklearn.metrics import accuracy_score\n",
    "from sklearn.tree import DecisionTreeRegressor\n",
    "from sklearn.metrics import mean_squared_error"
   ]
  },
  {
   "cell_type": "code",
   "execution_count": 2,
   "id": "87dd8c0b-d8f3-42d9-9cd9-23412408aabc",
   "metadata": {},
   "outputs": [
    {
     "name": "stdout",
     "output_type": "stream",
     "text": [
      ".. _breast_cancer_dataset:\n",
      "\n",
      "Breast cancer wisconsin (diagnostic) dataset\n",
      "--------------------------------------------\n",
      "\n",
      "**Data Set Characteristics:**\n",
      "\n",
      "    :Number of Instances: 569\n",
      "\n",
      "    :Number of Attributes: 30 numeric, predictive attributes and the class\n",
      "\n",
      "    :Attribute Information:\n",
      "        - radius (mean of distances from center to points on the perimeter)\n",
      "        - texture (standard deviation of gray-scale values)\n",
      "        - perimeter\n",
      "        - area\n",
      "        - smoothness (local variation in radius lengths)\n",
      "        - compactness (perimeter^2 / area - 1.0)\n",
      "        - concavity (severity of concave portions of the contour)\n",
      "        - concave points (number of concave portions of the contour)\n",
      "        - symmetry\n",
      "        - fractal dimension (\"coastline approximation\" - 1)\n",
      "\n",
      "        The mean, standard error, and \"worst\" or largest (mean of the three\n",
      "        worst/largest values) of these features were computed for each image,\n",
      "        resulting in 30 features.  For instance, field 0 is Mean Radius, field\n",
      "        10 is Radius SE, field 20 is Worst Radius.\n",
      "\n",
      "        - class:\n",
      "                - WDBC-Malignant\n",
      "                - WDBC-Benign\n",
      "\n",
      "    :Summary Statistics:\n",
      "\n",
      "    ===================================== ====== ======\n",
      "                                           Min    Max\n",
      "    ===================================== ====== ======\n",
      "    radius (mean):                        6.981  28.11\n",
      "    texture (mean):                       9.71   39.28\n",
      "    perimeter (mean):                     43.79  188.5\n",
      "    area (mean):                          143.5  2501.0\n",
      "    smoothness (mean):                    0.053  0.163\n",
      "    compactness (mean):                   0.019  0.345\n",
      "    concavity (mean):                     0.0    0.427\n",
      "    concave points (mean):                0.0    0.201\n",
      "    symmetry (mean):                      0.106  0.304\n",
      "    fractal dimension (mean):             0.05   0.097\n",
      "    radius (standard error):              0.112  2.873\n",
      "    texture (standard error):             0.36   4.885\n",
      "    perimeter (standard error):           0.757  21.98\n",
      "    area (standard error):                6.802  542.2\n",
      "    smoothness (standard error):          0.002  0.031\n",
      "    compactness (standard error):         0.002  0.135\n",
      "    concavity (standard error):           0.0    0.396\n",
      "    concave points (standard error):      0.0    0.053\n",
      "    symmetry (standard error):            0.008  0.079\n",
      "    fractal dimension (standard error):   0.001  0.03\n",
      "    radius (worst):                       7.93   36.04\n",
      "    texture (worst):                      12.02  49.54\n",
      "    perimeter (worst):                    50.41  251.2\n",
      "    area (worst):                         185.2  4254.0\n",
      "    smoothness (worst):                   0.071  0.223\n",
      "    compactness (worst):                  0.027  1.058\n",
      "    concavity (worst):                    0.0    1.252\n",
      "    concave points (worst):               0.0    0.291\n",
      "    symmetry (worst):                     0.156  0.664\n",
      "    fractal dimension (worst):            0.055  0.208\n",
      "    ===================================== ====== ======\n",
      "\n",
      "    :Missing Attribute Values: None\n",
      "\n",
      "    :Class Distribution: 212 - Malignant, 357 - Benign\n",
      "\n",
      "    :Creator:  Dr. William H. Wolberg, W. Nick Street, Olvi L. Mangasarian\n",
      "\n",
      "    :Donor: Nick Street\n",
      "\n",
      "    :Date: November, 1995\n",
      "\n",
      "This is a copy of UCI ML Breast Cancer Wisconsin (Diagnostic) datasets.\n",
      "https://goo.gl/U2Uwz2\n",
      "\n",
      "Features are computed from a digitized image of a fine needle\n",
      "aspirate (FNA) of a breast mass.  They describe\n",
      "characteristics of the cell nuclei present in the image.\n",
      "\n",
      "Separating plane described above was obtained using\n",
      "Multisurface Method-Tree (MSM-T) [K. P. Bennett, \"Decision Tree\n",
      "Construction Via Linear Programming.\" Proceedings of the 4th\n",
      "Midwest Artificial Intelligence and Cognitive Science Society,\n",
      "pp. 97-101, 1992], a classification method which uses linear\n",
      "programming to construct a decision tree.  Relevant features\n",
      "were selected using an exhaustive search in the space of 1-4\n",
      "features and 1-3 separating planes.\n",
      "\n",
      "The actual linear program used to obtain the separating plane\n",
      "in the 3-dimensional space is that described in:\n",
      "[K. P. Bennett and O. L. Mangasarian: \"Robust Linear\n",
      "Programming Discrimination of Two Linearly Inseparable Sets\",\n",
      "Optimization Methods and Software 1, 1992, 23-34].\n",
      "\n",
      "This database is also available through the UW CS ftp server:\n",
      "\n",
      "ftp ftp.cs.wisc.edu\n",
      "cd math-prog/cpo-dataset/machine-learn/WDBC/\n",
      "\n",
      ".. topic:: References\n",
      "\n",
      "   - W.N. Street, W.H. Wolberg and O.L. Mangasarian. Nuclear feature extraction \n",
      "     for breast tumor diagnosis. IS&T/SPIE 1993 International Symposium on \n",
      "     Electronic Imaging: Science and Technology, volume 1905, pages 861-870,\n",
      "     San Jose, CA, 1993.\n",
      "   - O.L. Mangasarian, W.N. Street and W.H. Wolberg. Breast cancer diagnosis and \n",
      "     prognosis via linear programming. Operations Research, 43(4), pages 570-577, \n",
      "     July-August 1995.\n",
      "   - W.H. Wolberg, W.N. Street, and O.L. Mangasarian. Machine learning techniques\n",
      "     to diagnose breast cancer from fine-needle aspirates. Cancer Letters 77 (1994) \n",
      "     163-171.\n"
     ]
    }
   ],
   "source": [
    "from sklearn import datasets\n",
    "data_breast_cancer = datasets.load_breast_cancer(as_frame = True)\n",
    "print(data_breast_cancer['DESCR'])"
   ]
  },
  {
   "cell_type": "code",
   "execution_count": null,
   "id": "5218f280-b3e0-42d2-be49-591cdc3ac328",
   "metadata": {},
   "outputs": [],
   "source": []
  },
  {
   "cell_type": "code",
   "execution_count": 3,
   "id": "fb0f7436-3fda-4e9b-85c2-02b7b215639f",
   "metadata": {},
   "outputs": [],
   "source": [
    "X_bc = data_breast_cancer.data\n",
    "y_bc = data_breast_cancer.target\n",
    "from sklearn.model_selection import train_test_split\n",
    "X_train, X_test, y_train, y_test = train_test_split(X_bc, y_bc, test_size=0.20, random_state=42)"
   ]
  },
  {
   "cell_type": "code",
   "execution_count": 4,
   "id": "d745068a-7139-48f9-8da5-20ca3c1dc552",
   "metadata": {},
   "outputs": [
    {
     "data": {
      "text/plain": [
       "DecisionTreeClassifier(max_depth=3, random_state=42)"
      ]
     },
     "execution_count": 4,
     "metadata": {},
     "output_type": "execute_result"
    }
   ],
   "source": [
    "tree_clf = DecisionTreeClassifier(max_depth=3, random_state=42)\n",
    "tree_clf.fit(X_train, y_train)"
   ]
  },
  {
   "cell_type": "code",
   "execution_count": 5,
   "id": "67f43b7f-44ea-469d-a675-8832d2f3bcf7",
   "metadata": {},
   "outputs": [
    {
     "data": {
      "text/plain": [
       "'bc.png'"
      ]
     },
     "execution_count": 5,
     "metadata": {},
     "output_type": "execute_result"
    }
   ],
   "source": [
    "f = \"bc\"\n",
    "export_graphviz(\n",
    "    tree_clf,\n",
    "    out_file=f,\n",
    "    feature_names=data_breast_cancer.feature_names,\n",
    "    class_names=[\n",
    "        str(num) + \", \" + name\n",
    "        for num, name in zip(\n",
    "            set(data_breast_cancer.target), data_breast_cancer.target_names\n",
    "        )\n",
    "    ],\n",
    "    rounded=True,\n",
    "    filled=True,\n",
    ")\n",
    "graphviz.render('dot', 'png', f)"
   ]
  },
  {
   "cell_type": "code",
   "execution_count": 6,
   "id": "77665ce1-4974-4206-b4c4-5b942860f126",
   "metadata": {},
   "outputs": [],
   "source": [
    "f1_train = f1_score(y_train, tree_clf.predict(X_train))"
   ]
  },
  {
   "cell_type": "code",
   "execution_count": 7,
   "id": "c0b2bfb8-da88-4970-b365-fd02740b0e07",
   "metadata": {},
   "outputs": [],
   "source": [
    "f1_test = f1_score(y_test, tree_clf.predict(X_test))"
   ]
  },
  {
   "cell_type": "code",
   "execution_count": 8,
   "id": "fde8088e-58e8-436c-93b2-302aaaecd9a8",
   "metadata": {},
   "outputs": [
    {
     "data": {
      "text/plain": [
       "0.978021978021978"
      ]
     },
     "execution_count": 8,
     "metadata": {},
     "output_type": "execute_result"
    }
   ],
   "source": [
    "acc_train = accuracy_score(y_train, tree_clf.predict(X_train))\n",
    "acc_train"
   ]
  },
  {
   "cell_type": "code",
   "execution_count": 9,
   "id": "6e3f93c4-4ebd-4036-9555-57147c9323d5",
   "metadata": {},
   "outputs": [
    {
     "data": {
      "text/plain": [
       "0.9473684210526315"
      ]
     },
     "execution_count": 9,
     "metadata": {},
     "output_type": "execute_result"
    }
   ],
   "source": [
    "acc_test = accuracy_score(y_test, tree_clf.predict(X_test))\n",
    "acc_test"
   ]
  },
  {
   "cell_type": "code",
   "execution_count": 10,
   "id": "d0b8a2e1-ee45-4805-be1c-fd91be27e140",
   "metadata": {},
   "outputs": [],
   "source": [
    "lista_bc = [3, f1_train, f1_test, acc_train, acc_test]\n",
    "import pickle\n",
    "with open('f1acc_tree.pkl','wb') as file:\n",
    "    pickle.dump(lista_bc,file)"
   ]
  },
  {
   "cell_type": "code",
   "execution_count": 11,
   "id": "f525fdbb-b928-4274-9d59-03cef05010f2",
   "metadata": {},
   "outputs": [
    {
     "data": {
      "text/plain": [
       "<AxesSubplot:xlabel='x', ylabel='y'>"
      ]
     },
     "execution_count": 11,
     "metadata": {},
     "output_type": "execute_result"
    },
    {
     "data": {
      "image/png": "[encoded data removed]",
      "text/plain": [
       "<Figure size 432x288 with 1 Axes>"
      ]
     },
     "metadata": {
      "needs_background": "light"
     },
     "output_type": "display_data"
    }
   ],
   "source": [
    "size = 300\n",
    "X_df = np.random.rand(size)*5-2.5\n",
    "w4,w3,w2,w1,w0 = 1,2,1,-4,2\n",
    "y_df=w4*(X_df**4) + w3*(X_df**3) + w2*(X_df**2) + w1*X_df + w0 + np.random.randn(size)*8-4\n",
    "df = pd.DataFrame({'x':X_df, 'y': y_df})\n",
    "df.plot.scatter(x='x', y='y')"
   ]
  },
  {
   "cell_type": "code",
   "execution_count": 12,
   "id": "2d0c333c-4624-43f3-8355-d924e0bc48b1",
   "metadata": {},
   "outputs": [],
   "source": [
    "X_df_train, X_df_test, y_df_train, y_df_test = train_test_split(df[['x']], df[['y']], test_size=0.20, random_state=42)\n",
    "m_d_df = 4"
   ]
  },
  {
   "cell_type": "code",
   "execution_count": 13,
   "id": "fd5a96dc-474c-4390-bac4-ff10cca9033d",
   "metadata": {},
   "outputs": [
    {
     "data": {
      "text/plain": [
       "DecisionTreeRegressor(max_depth=4, random_state=42)"
      ]
     },
     "execution_count": 13,
     "metadata": {},
     "output_type": "execute_result"
    }
   ],
   "source": [
    "tree_reg = DecisionTreeRegressor(max_depth=m_d_df, random_state=42)\n",
    "tree_reg.fit(X_df_train, y_df_train)"
   ]
  },
  {
   "cell_type": "code",
   "execution_count": 14,
   "id": "7591fbc2-1bc0-4aad-9b75-2ba16ed51e85",
   "metadata": {},
   "outputs": [
    {
     "data": {
      "text/plain": [
       "49.634923660627265"
      ]
     },
     "execution_count": 14,
     "metadata": {},
     "output_type": "execute_result"
    }
   ],
   "source": [
    "mse_train = mean_squared_error(y_df_train, tree_reg.predict(X_df_train))\n",
    "mse_train"
   ]
  },
  {
   "cell_type": "code",
   "execution_count": 15,
   "id": "b834f63e-9f20-4e1c-b2e7-9b74e0744d24",
   "metadata": {},
   "outputs": [
    {
     "data": {
      "text/plain": [
       "101.0472424269304"
      ]
     },
     "execution_count": 15,
     "metadata": {},
     "output_type": "execute_result"
    }
   ],
   "source": [
    "mse_test = mean_squared_error(y_df_test, tree_reg.predict(X_df_test))\n",
    "mse_test"
   ]
  },
  {
   "cell_type": "code",
   "execution_count": 16,
   "id": "c29aab08-ed66-41e7-9607-e07d0c8cd70a",
   "metadata": {},
   "outputs": [
    {
     "data": {
      "text/plain": [
       "<matplotlib.collections.PathCollection at 0x21bc52ffa90>"
      ]
     },
     "execution_count": 16,
     "metadata": {},
     "output_type": "execute_result"
    },
    {
     "data": {
      "image/png": "[encoded data removed]",
      "text/plain": [
       "<Figure size 432x288 with 1 Axes>"
      ]
     },
     "metadata": {
      "needs_background": "light"
     },
     "output_type": "display_data"
    }
   ],
   "source": [
    "plt.scatter(X_df_train, y_df_train, color = 'b')\n",
    "plt.scatter(X_df_train, tree_reg.predict(X_df_train), color='r')"
   ]
  },
  {
   "cell_type": "code",
   "execution_count": 17,
   "id": "2af40c55-bbe6-419d-af3e-2dd6b0c4e509",
   "metadata": {},
   "outputs": [
    {
     "data": {
      "text/plain": [
       "<matplotlib.collections.PathCollection at 0x21bc52ded60>"
      ]
     },
     "execution_count": 17,
     "metadata": {},
     "output_type": "execute_result"
    },
    {
     "data": {
      "image/png": "[encoded data removed]",
      "text/plain": [
       "<Figure size 432x288 with 1 Axes>"
      ]
     },
     "metadata": {
      "needs_background": "light"
     },
     "output_type": "display_data"
    }
   ],
   "source": [
    "plt.scatter(X_df_test, y_df_test, color = 'b')\n",
    "plt.scatter(X_df_test, tree_reg.predict(X_df_test), color='r')"
   ]
  },
  {
   "cell_type": "code",
   "execution_count": 18,
   "id": "d319f7dd-4ad9-4513-95e0-707b18ce7a39",
   "metadata": {},
   "outputs": [
    {
     "data": {
      "text/plain": [
       "'reg.png'"
      ]
     },
     "execution_count": 18,
     "metadata": {},
     "output_type": "execute_result"
    }
   ],
   "source": [
    "fi = \"reg\"\n",
    "export_graphviz(\n",
    "    tree_clf,\n",
    "    out_file=fi,\n",
    "    rounded=True,\n",
    "    filled=True,\n",
    ")\n",
    "\n",
    "graphviz.render('dot', 'png', fi)"
   ]
  },
  {
   "cell_type": "code",
   "execution_count": 20,
   "id": "95864e2e-1366-41c1-a87e-88beeed0bdb3",
   "metadata": {},
   "outputs": [],
   "source": [
    "lista = [m_d_df, mse_train, mse_test]\n",
    "import pickle\n",
    "with open('mse_tree.pkl','wb') as file1:\n",
    "    pickle.dump(lista,file1)"
   ]
  },
  {
   "cell_type": "code",
   "execution_count": null,
   "id": "974ecefc-8169-4876-842f-09b3d45db4f9",
   "metadata": {},
   "outputs": [],
   "source": []
  },
  {
   "cell_type": "code",
   "execution_count": null,
   "id": "c8d649cf-e0c1-4c39-9857-c3f176d5da61",
   "metadata": {},
   "outputs": [],
   "source": []
  }
 ],
 "metadata": {
  "kernelspec": {
   "display_name": "Python 3 (ipykernel)",
   "language": "python",
   "name": "python3"
  },
  "language_info": {
   "codemirror_mode": {
    "name": "ipython",
    "version": 3
   },
   "file_extension": ".py",
   "mimetype": "text/x-python",
   "name": "python",
   "nbconvert_exporter": "python",
   "pygments_lexer": "ipython3",
   "version": "3.9.7"
  }
 },
 "nbformat": 4,
 "nbformat_minor": 5
}

{
 "cells": [
  {
   "cell_type": "code",
   "execution_count": 1,
   "id": "81460310-3c45-4f2c-8ad6-2628a7b62d25",
   "metadata": {},
   "outputs": [],
   "source": [
    "import tensorflow as tf\n",
    "import keras\n",
    "import matplotlib.pyplot as plt\n",
    "import numpy as np\n",
    "import os\n",
    "import time\n",
    "from sklearn.model_selection import train_test_split"
   ]
  },
  {
   "cell_type": "code",
   "execution_count": 2,
   "id": "87ef1f45-a9c4-4ccb-a4b7-b15bae3af620",
   "metadata": {},
   "outputs": [],
   "source": [
    "fashion_mnist = tf.keras.datasets.fashion_mnist\n",
    "(X_train, y_train), (X_test, y_test) = fashion_mnist.load_data()\n",
    "assert X_train.shape == (60000, 28, 28)\n",
    "assert X_test.shape == (10000, 28, 28)\n",
    "assert y_train.shape == (60000,)\n",
    "assert y_test.shape == (10000,)"
   ]
  },
  {
   "cell_type": "code",
   "execution_count": 3,
   "id": "1acf1a9f-a28e-461d-a1a3-d693a7476025",
   "metadata": {},
   "outputs": [],
   "source": [
    "X_train = X_train / 255\n",
    "X_test = X_test/255"
   ]
  },
  {
   "cell_type": "code",
   "execution_count": 4,
   "id": "c2ab9b14-9940-44fa-b777-90dbae232e06",
   "metadata": {},
   "outputs": [
    {
     "data": {
      "image/png": "[encoded data removed]",
      "text/plain": [
       "<Figure size 432x288 with 1 Axes>"
      ]
     },
     "metadata": {
      "needs_background": "light"
     },
     "output_type": "display_data"
    }
   ],
   "source": [
    "plt.imshow(X_train[70], cmap=\"binary\")\n",
    "plt.axis('off')\n",
    "plt.show()"
   ]
  },
  {
   "cell_type": "code",
   "execution_count": 5,
   "id": "b4b12bb4-9006-4a51-9302-63f507194de3",
   "metadata": {},
   "outputs": [
    {
     "data": {
      "text/plain": [
       "'sukienka'"
      ]
     },
     "execution_count": 5,
     "metadata": {},
     "output_type": "execute_result"
    }
   ],
   "source": [
    "class_names = [\"koszulka\", \"spodnie\", \"pulower\", \"sukienka\", \"kurtka\", \"sandał\", \"koszula\", \"but\", \"torba\", \"kozak\"]\n",
    "class_names[y_train[70]]"
   ]
  },
  {
   "cell_type": "code",
   "execution_count": 6,
   "id": "dcd5698a-2b52-480f-8916-b212726923c6",
   "metadata": {},
   "outputs": [],
   "source": [
    "model = keras.models.Sequential()\n",
    "\n",
    "model.add(keras.layers.Flatten(input_shape=[28,28]))\n",
    "model.add(keras.layers.Dense(300, activation=\"relu\"))\n",
    "model.add(keras.layers.Dense(100, activation = \"relu\"))\n",
    "model.add(keras.layers.Dense(10, activation=\"softmax\"))"
   ]
  },
  {
   "cell_type": "code",
   "execution_count": 7,
   "id": "f3f37c11-79e2-4fa3-955e-f39066400867",
   "metadata": {},
   "outputs": [
    {
     "name": "stdout",
     "output_type": "stream",
     "text": [
      "Model: \"sequential\"\n",
      "_________________________________________________________________\n",
      " Layer (type)                Output Shape              Param #   \n",
      "=================================================================\n",
      " flatten (Flatten)           (None, 784)               0         \n",
      "                                                                 \n",
      " dense (Dense)               (None, 300)               235500    \n",
      "                                                                 \n",
      " dense_1 (Dense)             (None, 100)               30100     \n",
      "                                                                 \n",
      " dense_2 (Dense)             (None, 10)                1010      \n",
      "                                                                 \n",
      "=================================================================\n",
      "Total params: 266,610\n",
      "Trainable params: 266,610\n",
      "Non-trainable params: 0\n",
      "_________________________________________________________________\n",
      "You must install pydot (`pip install pydot`) and install graphviz (see instructions at https://graphviz.gitlab.io/download/) for plot_model/model_to_dot to work.\n"
     ]
    }
   ],
   "source": [
    "model.summary()\n",
    "tf.keras.utils.plot_model(model, \"fashion_mnist.png\", show_shapes=True)"
   ]
  },
  {
   "cell_type": "code",
   "execution_count": 8,
   "id": "f0df23f1-2a66-4ff7-9902-85fe002d79c2",
   "metadata": {},
   "outputs": [],
   "source": [
    "model.compile(loss=tf.keras.losses.SparseCategoricalCrossentropy(), optimizer=\"sgd\", metrics=[\"accuracy\"])"
   ]
  },
  {
   "cell_type": "code",
   "execution_count": 9,
   "id": "66942480-2cca-43ab-9b11-1454d4d17378",
   "metadata": {},
   "outputs": [],
   "source": [
    "root_logdir = os.path.join(os.curdir, \"image_logs\")\n",
    "\n",
    "def get_run_logdir():\n",
    "    run_id = time.strftime(\"run_%Y_%m_%d-%H_%M_%S\")\n",
    "    return os.path.join(root_logdir, run_id)\n",
    "\n",
    "run_logdir = get_run_logdir()\n",
    "\n",
    "tensorboard_cb = tf.keras.callbacks.TensorBoard(run_logdir)"
   ]
  },
  {
   "cell_type": "code",
   "execution_count": 10,
   "id": "3280ee4d-52fd-4f1e-9b22-195678991365",
   "metadata": {},
   "outputs": [
    {
     "name": "stdout",
     "output_type": "stream",
     "text": [
      "Epoch 1/20\n",
      "1688/1688 [==============================] - 3s 1ms/step - loss: 0.7225 - accuracy: 0.7647 - val_loss: 0.5316 - val_accuracy: 0.8118\n",
      "Epoch 2/20\n",
      "1688/1688 [==============================] - 2s 1ms/step - loss: 0.4892 - accuracy: 0.8287 - val_loss: 0.4947 - val_accuracy: 0.8168\n",
      "Epoch 3/20\n",
      "1688/1688 [==============================] - 3s 2ms/step - loss: 0.4428 - accuracy: 0.8442 - val_loss: 0.4237 - val_accuracy: 0.8492\n",
      "Epoch 4/20\n",
      "1688/1688 [==============================] - 2s 1ms/step - loss: 0.4140 - accuracy: 0.8540 - val_loss: 0.4141 - val_accuracy: 0.8532\n",
      "Epoch 5/20\n",
      "1688/1688 [==============================] - 2s 1ms/step - loss: 0.3929 - accuracy: 0.8624 - val_loss: 0.3990 - val_accuracy: 0.8545\n",
      "Epoch 6/20\n",
      "1688/1688 [==============================] - 2s 1ms/step - loss: 0.3776 - accuracy: 0.8671 - val_loss: 0.3896 - val_accuracy: 0.8617\n",
      "Epoch 7/20\n",
      "1688/1688 [==============================] - 2s 1ms/step - loss: 0.3636 - accuracy: 0.8714 - val_loss: 0.3775 - val_accuracy: 0.8692\n",
      "Epoch 8/20\n",
      "1688/1688 [==============================] - 3s 2ms/step - loss: 0.3512 - accuracy: 0.8761 - val_loss: 0.4099 - val_accuracy: 0.8468\n",
      "Epoch 9/20\n",
      "1688/1688 [==============================] - 2s 1ms/step - loss: 0.3419 - accuracy: 0.8788 - val_loss: 0.3769 - val_accuracy: 0.8667\n",
      "Epoch 10/20\n",
      "1688/1688 [==============================] - 2s 1ms/step - loss: 0.3329 - accuracy: 0.8800 - val_loss: 0.3496 - val_accuracy: 0.8757\n",
      "Epoch 11/20\n",
      "1688/1688 [==============================] - 2s 1ms/step - loss: 0.3239 - accuracy: 0.8846 - val_loss: 0.3442 - val_accuracy: 0.8783\n",
      "Epoch 12/20\n",
      "1688/1688 [==============================] - 2s 1ms/step - loss: 0.3167 - accuracy: 0.8867 - val_loss: 0.3816 - val_accuracy: 0.8628\n",
      "Epoch 13/20\n",
      "1688/1688 [==============================] - 2s 1ms/step - loss: 0.3094 - accuracy: 0.8897 - val_loss: 0.3505 - val_accuracy: 0.8735\n",
      "Epoch 14/20\n",
      "1688/1688 [==============================] - 2s 1ms/step - loss: 0.3021 - accuracy: 0.8916 - val_loss: 0.3433 - val_accuracy: 0.8777\n",
      "Epoch 15/20\n",
      "1688/1688 [==============================] - 2s 1ms/step - loss: 0.2961 - accuracy: 0.8942 - val_loss: 0.3304 - val_accuracy: 0.8810\n",
      "Epoch 16/20\n",
      "1688/1688 [==============================] - 3s 2ms/step - loss: 0.2896 - accuracy: 0.8955 - val_loss: 0.3244 - val_accuracy: 0.8807\n",
      "Epoch 17/20\n",
      "1688/1688 [==============================] - 3s 1ms/step - loss: 0.2836 - accuracy: 0.8978 - val_loss: 0.3304 - val_accuracy: 0.8785\n",
      "Epoch 18/20\n",
      "1688/1688 [==============================] - 3s 2ms/step - loss: 0.2782 - accuracy: 0.9007 - val_loss: 0.3192 - val_accuracy: 0.8835\n",
      "Epoch 19/20\n",
      "1688/1688 [==============================] - 3s 1ms/step - loss: 0.2722 - accuracy: 0.9019 - val_loss: 0.3237 - val_accuracy: 0.8808\n",
      "Epoch 20/20\n",
      "1688/1688 [==============================] - 2s 1ms/step - loss: 0.2679 - accuracy: 0.9041 - val_loss: 0.3567 - val_accuracy: 0.8698\n"
     ]
    }
   ],
   "source": [
    "history = model.fit(X_train, y_train, epochs=20, validation_split = 0.1, callbacks = [tensorboard_cb])"
   ]
  },
  {
   "cell_type": "code",
   "execution_count": 11,
   "id": "5b08b224-f566-4abd-89f3-9f29ee04ca2a",
   "metadata": {},
   "outputs": [
    {
     "name": "stdout",
     "output_type": "stream",
     "text": [
      "Prediction: sukienka\n",
      "Confidence: 0.5647089\n",
      "Truth: kurtka\n"
     ]
    },
    {
     "data": {
      "image/png": "[encoded data removed]",
      "text/plain": [
       "<Figure size 432x288 with 1 Axes>"
      ]
     },
     "metadata": {
      "needs_background": "light"
     },
     "output_type": "display_data"
    }
   ],
   "source": [
    "image_index = np.random.randint(len(X_test))\n",
    "image = np.array([X_test[image_index]])\n",
    "confidences = model.predict(image)\n",
    "confidence = np.max(confidences[0])\n",
    "prediction = np.argmax(confidences[0])\n",
    "print(\"Prediction:\", class_names[prediction])\n",
    "print(\"Confidence:\", confidence)\n",
    "print(\"Truth:\", class_names[y_test[image_index]])\n",
    "plt.imshow(image[0], cmap=\"binary\")\n",
    "plt.axis('off')\n",
    "plt.show()"
   ]
  },
  {
   "cell_type": "code",
   "execution_count": 12,
   "id": "c1e5f7d4-def9-40e1-884d-ddbfa87c34ce",
   "metadata": {},
   "outputs": [],
   "source": [
    "model.save('fashion_clf.h5')"
   ]
  },
  {
   "cell_type": "code",
   "execution_count": null,
   "id": "94878fef-9874-4043-bf4d-bbad704a2ddc",
   "metadata": {},
   "outputs": [],
   "source": []
  },
  {
   "cell_type": "code",
   "execution_count": 13,
   "id": "62514310-a29f-4e91-8c64-a4c09fe80551",
   "metadata": {},
   "outputs": [],
   "source": [
    "from sklearn.datasets import fetch_california_housing\n",
    "from sklearn.model_selection import train_test_split\n",
    "from sklearn.preprocessing import StandardScaler\n",
    "housing = fetch_california_housing()"
   ]
  },
  {
   "cell_type": "code",
   "execution_count": 14,
   "id": "7469d66d-5a70-442c-a25d-5d531b20addd",
   "metadata": {},
   "outputs": [],
   "source": [
    "X_train_full, X_test, y_train_full, y_test = train_test_split(housing.data, housing.target, random_state=42)\n",
    "\n",
    "X_train, X_valid, y_train, y_valid = train_test_split(X_train_full, y_train_full, random_state = 42)"
   ]
  },
  {
   "cell_type": "code",
   "execution_count": 15,
   "id": "83bbe291-0f10-4ed3-82fc-e8e13ba3b81a",
   "metadata": {},
   "outputs": [],
   "source": [
    "scaler = StandardScaler()\n",
    "X_train = scaler.fit_transform(X_train)\n",
    "X_valid = scaler.transform(X_valid)\n",
    "X_test = scaler.transform(X_test)"
   ]
  },
  {
   "cell_type": "code",
   "execution_count": 16,
   "id": "3be83592-cc11-4433-a721-b0c798d0fd5f",
   "metadata": {},
   "outputs": [],
   "source": [
    "model_reg = keras.models.Sequential()\n",
    "\n",
    "model_reg.add(keras.layers.Dense(30, activation = \"relu\"))"
   ]
  },
  {
   "cell_type": "code",
   "execution_count": 17,
   "id": "2e81e7dd-943e-4b34-b50d-9f954c1254e9",
   "metadata": {},
   "outputs": [],
   "source": [
    "model_reg.compile(loss=tf.keras.losses.mean_squared_error, optimizer=\"sgd\")"
   ]
  },
  {
   "cell_type": "code",
   "execution_count": 18,
   "id": "9d9355ec-8a3d-4936-b3c3-bb53cb6aaf79",
   "metadata": {},
   "outputs": [],
   "source": [
    "es = tf.keras.callbacks.EarlyStopping(patience=5,\n",
    "min_delta=0.01,\n",
    "verbose=1)"
   ]
  },
  {
   "cell_type": "code",
   "execution_count": 19,
   "id": "588803ef-963c-48e8-ac25-d486ae28aa62",
   "metadata": {},
   "outputs": [],
   "source": [
    "root_logdir = os.path.join(os.curdir, \"housing_logs\")\n",
    "\n",
    "def get_run_logdir():\n",
    "    run_id = time.strftime(\"run_%Y_%m_%d-%H_%M_%S\")\n",
    "    return os.path.join(root_logdir, run_id)\n",
    "\n",
    "run_logdir = get_run_logdir()\n",
    "\n",
    "tensorboard_cv = tf.keras.callbacks.TensorBoard(run_logdir)"
   ]
  },
  {
   "cell_type": "code",
   "execution_count": 20,
   "id": "283d3444-3b95-424d-8d3e-e7aab9d063b1",
   "metadata": {},
   "outputs": [
    {
     "name": "stdout",
     "output_type": "stream",
     "text": [
      "Epoch 1/100\n",
      "363/363 [==============================] - 1s 1ms/step - loss: 4.6241 - val_loss: 5.4359\n",
      "Epoch 2/100\n",
      "363/363 [==============================] - 0s 1ms/step - loss: 3.8856 - val_loss: 4.1205\n",
      "Epoch 3/100\n",
      "363/363 [==============================] - 0s 1ms/step - loss: 3.2295 - val_loss: 3.1528\n",
      "Epoch 4/100\n",
      "363/363 [==============================] - 0s 963us/step - loss: 2.6453 - val_loss: 2.4190\n",
      "Epoch 5/100\n",
      "363/363 [==============================] - 0s 949us/step - loss: 2.1334 - val_loss: 1.8554\n",
      "Epoch 6/100\n",
      "363/363 [==============================] - 0s 937us/step - loss: 1.7061 - val_loss: 1.4540\n",
      "Epoch 7/100\n",
      "363/363 [==============================] - 0s 935us/step - loss: 1.3851 - val_loss: 1.1818\n",
      "Epoch 8/100\n",
      "363/363 [==============================] - 0s 925us/step - loss: 1.1518 - val_loss: 0.9885\n",
      "Epoch 9/100\n",
      "363/363 [==============================] - 0s 960us/step - loss: 0.9797 - val_loss: 0.8473\n",
      "Epoch 10/100\n",
      "363/363 [==============================] - 0s 935us/step - loss: 0.8550 - val_loss: 0.7479\n",
      "Epoch 11/100\n",
      "363/363 [==============================] - 0s 941us/step - loss: 0.7677 - val_loss: 0.6790\n",
      "Epoch 12/100\n",
      "363/363 [==============================] - 0s 938us/step - loss: 0.7074 - val_loss: 0.6318\n",
      "Epoch 13/100\n",
      "363/363 [==============================] - 0s 909us/step - loss: 0.6660 - val_loss: 0.5995\n",
      "Epoch 14/100\n",
      "363/363 [==============================] - 0s 885us/step - loss: 0.6376 - val_loss: 0.5772\n",
      "Epoch 15/100\n",
      "363/363 [==============================] - 0s 915us/step - loss: 0.6179 - val_loss: 0.5618\n",
      "Epoch 16/100\n",
      "363/363 [==============================] - 0s 942us/step - loss: 0.6040 - val_loss: 0.5507\n",
      "Epoch 17/100\n",
      "363/363 [==============================] - 0s 914us/step - loss: 0.5938 - val_loss: 0.5425\n",
      "Epoch 18/100\n",
      "363/363 [==============================] - 0s 916us/step - loss: 0.5860 - val_loss: 0.5361\n",
      "Epoch 19/100\n",
      "363/363 [==============================] - 0s 928us/step - loss: 0.5797 - val_loss: 0.5307\n",
      "Epoch 20/100\n",
      "363/363 [==============================] - 0s 945us/step - loss: 0.5744 - val_loss: 0.5261\n",
      "Epoch 21/100\n",
      "363/363 [==============================] - 0s 907us/step - loss: 0.5698 - val_loss: 0.5221\n",
      "Epoch 22/100\n",
      "363/363 [==============================] - 0s 953us/step - loss: 0.5656 - val_loss: 0.5184\n",
      "Epoch 23/100\n",
      "363/363 [==============================] - 0s 897us/step - loss: 0.5618 - val_loss: 0.5149\n",
      "Epoch 24/100\n",
      "363/363 [==============================] - 0s 974us/step - loss: 0.5582 - val_loss: 0.5117\n",
      "Epoch 25/100\n",
      "363/363 [==============================] - 0s 959us/step - loss: 0.5548 - val_loss: 0.5087\n",
      "Epoch 26/100\n",
      "363/363 [==============================] - 0s 906us/step - loss: 0.5516 - val_loss: 0.5058\n",
      "Epoch 27/100\n",
      "363/363 [==============================] - 0s 932us/step - loss: 0.5485 - val_loss: 0.5030\n",
      "Epoch 28/100\n",
      "363/363 [==============================] - 0s 916us/step - loss: 0.5456 - val_loss: 0.5003\n",
      "Epoch 29/100\n",
      "363/363 [==============================] - 0s 916us/step - loss: 0.5427 - val_loss: 0.4977\n",
      "Epoch 30/100\n",
      "363/363 [==============================] - 0s 966us/step - loss: 0.5400 - val_loss: 0.4952\n",
      "Epoch 31/100\n",
      "363/363 [==============================] - 0s 933us/step - loss: 0.5374 - val_loss: 0.4928\n",
      "Epoch 32/100\n",
      "363/363 [==============================] - 0s 909us/step - loss: 0.5349 - val_loss: 0.4905\n",
      "Epoch 33/100\n",
      "363/363 [==============================] - 0s 949us/step - loss: 0.5325 - val_loss: 0.4883\n",
      "Epoch 34/100\n",
      "363/363 [==============================] - 0s 884us/step - loss: 0.5301 - val_loss: 0.4862\n",
      "Epoch 35/100\n",
      "363/363 [==============================] - 0s 893us/step - loss: 0.5279 - val_loss: 0.4841\n",
      "Epoch 36/100\n",
      "363/363 [==============================] - 0s 918us/step - loss: 0.5257 - val_loss: 0.4822\n",
      "Epoch 37/100\n",
      "363/363 [==============================] - 0s 948us/step - loss: 0.5236 - val_loss: 0.4803\n",
      "Epoch 38/100\n",
      "363/363 [==============================] - 0s 906us/step - loss: 0.5216 - val_loss: 0.4785\n",
      "Epoch 38: early stopping\n"
     ]
    }
   ],
   "source": [
    "history = model_reg.fit(X_train, y_train, epochs=100, validation_data=(X_valid, y_valid), callbacks = [es, tensorboard_cv])"
   ]
  },
  {
   "cell_type": "code",
   "execution_count": 21,
   "id": "03a13a23-42bc-4e95-ba24-3872dcd7c951",
   "metadata": {},
   "outputs": [],
   "source": [
    "model_reg.save('reg_housing_1.h5')"
   ]
  },
  {
   "cell_type": "code",
   "execution_count": null,
   "id": "bd98ea10-7315-40e3-b01a-2dec4fd685e9",
   "metadata": {},
   "outputs": [],
   "source": []
  },
  {
   "cell_type": "code",
   "execution_count": 22,
   "id": "b20a4668-825b-4988-b41c-935f97ce5ec9",
   "metadata": {},
   "outputs": [],
   "source": [
    "model_reg_2 = keras.models.Sequential()\n",
    "\n",
    "model_reg_2.add(keras.layers.Dense(30, activation = \"relu\"))\n",
    "model_reg_2.add(keras.layers.Dense(50, activation = \"relu\"))"
   ]
  },
  {
   "cell_type": "code",
   "execution_count": 23,
   "id": "d971c259-ab0c-43e0-8c75-b95fef39ddae",
   "metadata": {},
   "outputs": [],
   "source": [
    "model_reg_2.compile(loss=tf.keras.losses.mean_squared_error, optimizer=\"sgd\")"
   ]
  },
  {
   "cell_type": "code",
   "execution_count": 24,
   "id": "5c3c6ef0-31e6-4702-a8ea-26fc53001f77",
   "metadata": {},
   "outputs": [
    {
     "name": "stdout",
     "output_type": "stream",
     "text": [
      "Epoch 1/100\n",
      "363/363 [==============================] - 1s 1ms/step - loss: 4.1084 - val_loss: 7.3821\n",
      "Epoch 2/100\n",
      "363/363 [==============================] - 0s 971us/step - loss: 1.7859 - val_loss: 1.8556\n",
      "Epoch 3/100\n",
      "363/363 [==============================] - 0s 1ms/step - loss: 0.9881 - val_loss: 1.2330\n",
      "Epoch 4/100\n",
      "363/363 [==============================] - 0s 989us/step - loss: 0.7817 - val_loss: 0.9526\n",
      "Epoch 5/100\n",
      "363/363 [==============================] - 0s 945us/step - loss: 0.7036 - val_loss: 0.8152\n",
      "Epoch 6/100\n",
      "363/363 [==============================] - 0s 964us/step - loss: 0.6602 - val_loss: 0.7495\n",
      "Epoch 7/100\n",
      "363/363 [==============================] - 0s 967us/step - loss: 0.6312 - val_loss: 0.7035\n",
      "Epoch 8/100\n",
      "363/363 [==============================] - 0s 1ms/step - loss: 0.6117 - val_loss: 0.6727\n",
      "Epoch 9/100\n",
      "363/363 [==============================] - 0s 1ms/step - loss: 0.5978 - val_loss: 0.6511\n",
      "Epoch 10/100\n",
      "363/363 [==============================] - 0s 1ms/step - loss: 0.5880 - val_loss: 0.6358\n",
      "Epoch 11/100\n",
      "363/363 [==============================] - 0s 961us/step - loss: 0.5807 - val_loss: 0.6237\n",
      "Epoch 12/100\n",
      "363/363 [==============================] - 0s 982us/step - loss: 0.5744 - val_loss: 0.6160\n",
      "Epoch 13/100\n",
      "363/363 [==============================] - 0s 1ms/step - loss: 0.5700 - val_loss: 0.6109\n",
      "Epoch 14/100\n",
      "363/363 [==============================] - 0s 1ms/step - loss: 0.5659 - val_loss: 0.6078\n",
      "Epoch 15/100\n",
      "363/363 [==============================] - 0s 987us/step - loss: 0.5625 - val_loss: 0.6038\n",
      "Epoch 16/100\n",
      "363/363 [==============================] - 0s 968us/step - loss: 0.5598 - val_loss: 0.6017\n",
      "Epoch 17/100\n",
      "363/363 [==============================] - 0s 974us/step - loss: 0.5570 - val_loss: 0.6006\n",
      "Epoch 18/100\n",
      "363/363 [==============================] - 0s 957us/step - loss: 0.5548 - val_loss: 0.6002\n",
      "Epoch 19/100\n",
      "363/363 [==============================] - 0s 984us/step - loss: 0.5530 - val_loss: 0.6003\n",
      "Epoch 20/100\n",
      "363/363 [==============================] - 0s 1ms/step - loss: 0.5510 - val_loss: 0.6002\n",
      "Epoch 21/100\n",
      "363/363 [==============================] - 0s 1ms/step - loss: 0.5493 - val_loss: 0.5986\n",
      "Epoch 22/100\n",
      "363/363 [==============================] - 0s 982us/step - loss: 0.5480 - val_loss: 0.5971\n",
      "Epoch 22: early stopping\n"
     ]
    }
   ],
   "source": [
    "history = model_reg_2.fit(X_train, y_train, epochs=100, validation_data=(X_valid, y_valid), callbacks = [es, tensorboard_cv])"
   ]
  },
  {
   "cell_type": "code",
   "execution_count": 25,
   "id": "cfa325fe-0e7e-4d1c-a923-53e2457b4456",
   "metadata": {},
   "outputs": [],
   "source": [
    "model_reg_2.save('reg_housing_2.h5')"
   ]
  },
  {
   "cell_type": "code",
   "execution_count": 26,
   "id": "1b15f784-2172-411a-b498-0abd5fe6f9c9",
   "metadata": {},
   "outputs": [],
   "source": [
    "model_reg_3 = keras.models.Sequential()\n",
    "\n",
    "model_reg_3.add(keras.layers.Dense(70, activation = \"relu\"))"
   ]
  },
  {
   "cell_type": "code",
   "execution_count": 27,
   "id": "62e1c7b1-4785-4005-b235-8580420b779a",
   "metadata": {},
   "outputs": [],
   "source": [
    "model_reg_3.compile(loss=tf.keras.losses.mean_squared_error, optimizer=\"sgd\")"
   ]
  },
  {
   "cell_type": "code",
   "execution_count": 28,
   "id": "106f30bb-4380-47da-910c-3074859cb577",
   "metadata": {},
   "outputs": [
    {
     "name": "stdout",
     "output_type": "stream",
     "text": [
      "Epoch 1/100\n",
      "363/363 [==============================] - 1s 1ms/step - loss: 4.9718 - val_loss: 5.4938\n",
      "Epoch 2/100\n",
      "363/363 [==============================] - 0s 953us/step - loss: 4.6279 - val_loss: 4.9791\n",
      "Epoch 3/100\n",
      "363/363 [==============================] - 0s 903us/step - loss: 4.2842 - val_loss: 4.4913\n",
      "Epoch 4/100\n",
      "363/363 [==============================] - 0s 914us/step - loss: 3.9500 - val_loss: 4.0388\n",
      "Epoch 5/100\n",
      "363/363 [==============================] - 0s 951us/step - loss: 3.6245 - val_loss: 3.6172\n",
      "Epoch 6/100\n",
      "363/363 [==============================] - 0s 909us/step - loss: 3.3086 - val_loss: 3.2300\n",
      "Epoch 7/100\n",
      "363/363 [==============================] - 0s 921us/step - loss: 3.0052 - val_loss: 2.8759\n",
      "Epoch 8/100\n",
      "363/363 [==============================] - 0s 917us/step - loss: 2.7186 - val_loss: 2.5578\n",
      "Epoch 9/100\n",
      "363/363 [==============================] - 0s 924us/step - loss: 2.4530 - val_loss: 2.2778\n",
      "Epoch 10/100\n",
      "363/363 [==============================] - 0s 1ms/step - loss: 2.2106 - val_loss: 2.0306\n",
      "Epoch 11/100\n",
      "363/363 [==============================] - 0s 992us/step - loss: 1.9914 - val_loss: 1.8137\n",
      "Epoch 12/100\n",
      "363/363 [==============================] - 0s 899us/step - loss: 1.7954 - val_loss: 1.6253\n",
      "Epoch 13/100\n",
      "363/363 [==============================] - 0s 923us/step - loss: 1.6219 - val_loss: 1.4622\n",
      "Epoch 14/100\n",
      "363/363 [==============================] - 2s 4ms/step - loss: 1.4696 - val_loss: 1.3211\n",
      "Epoch 15/100\n",
      "363/363 [==============================] - 2s 4ms/step - loss: 1.3367 - val_loss: 1.1998\n",
      "Epoch 16/100\n",
      "363/363 [==============================] - 0s 1ms/step - loss: 1.2215 - val_loss: 1.0955\n",
      "Epoch 17/100\n",
      "363/363 [==============================] - 0s 1ms/step - loss: 1.1218 - val_loss: 1.0062\n",
      "Epoch 18/100\n",
      "363/363 [==============================] - 1s 2ms/step - loss: 1.0361 - val_loss: 0.9299\n",
      "Epoch 19/100\n",
      "363/363 [==============================] - 0s 1ms/step - loss: 0.9628 - val_loss: 0.8649\n",
      "Epoch 20/100\n",
      "363/363 [==============================] - 0s 1ms/step - loss: 0.9005 - val_loss: 0.8099\n",
      "Epoch 21/100\n",
      "363/363 [==============================] - 0s 1ms/step - loss: 0.8477 - val_loss: 0.7635\n",
      "Epoch 22/100\n",
      "363/363 [==============================] - 0s 1ms/step - loss: 0.8032 - val_loss: 0.7245\n",
      "Epoch 23/100\n",
      "363/363 [==============================] - 0s 1ms/step - loss: 0.7658 - val_loss: 0.6918\n",
      "Epoch 24/100\n",
      "363/363 [==============================] - 0s 1ms/step - loss: 0.7344 - val_loss: 0.6647\n",
      "Epoch 25/100\n",
      "363/363 [==============================] - 1s 1ms/step - loss: 0.7083 - val_loss: 0.6421\n",
      "Epoch 26/100\n",
      "363/363 [==============================] - 1s 2ms/step - loss: 0.6865 - val_loss: 0.6234\n",
      "Epoch 27/100\n",
      "363/363 [==============================] - 1s 2ms/step - loss: 0.6684 - val_loss: 0.6080\n",
      "Epoch 28/100\n",
      "363/363 [==============================] - 1s 2ms/step - loss: 0.6535 - val_loss: 0.5952\n",
      "Epoch 29/100\n",
      "363/363 [==============================] - 1s 2ms/step - loss: 0.6409 - val_loss: 0.5845\n",
      "Epoch 30/100\n",
      "363/363 [==============================] - 1s 2ms/step - loss: 0.6304 - val_loss: 0.5755\n",
      "Epoch 31/100\n",
      "363/363 [==============================] - 1s 2ms/step - loss: 0.6216 - val_loss: 0.5680\n",
      "Epoch 32/100\n",
      "363/363 [==============================] - 1s 2ms/step - loss: 0.6140 - val_loss: 0.5616\n",
      "Epoch 33/100\n",
      "363/363 [==============================] - 1s 2ms/step - loss: 0.6076 - val_loss: 0.5561\n",
      "Epoch 34/100\n",
      "363/363 [==============================] - 1s 3ms/step - loss: 0.6020 - val_loss: 0.5514\n",
      "Epoch 35/100\n",
      "363/363 [==============================] - 1s 2ms/step - loss: 0.5972 - val_loss: 0.5473\n",
      "Epoch 36/100\n",
      "363/363 [==============================] - 1s 2ms/step - loss: 0.5929 - val_loss: 0.5436\n",
      "Epoch 37/100\n",
      "363/363 [==============================] - 1s 2ms/step - loss: 0.5891 - val_loss: 0.5404\n",
      "Epoch 38/100\n",
      "363/363 [==============================] - 1s 2ms/step - loss: 0.5857 - val_loss: 0.5375\n",
      "Epoch 39/100\n",
      "363/363 [==============================] - 1s 2ms/step - loss: 0.5826 - val_loss: 0.5348\n",
      "Epoch 40/100\n",
      "363/363 [==============================] - 0s 1ms/step - loss: 0.5798 - val_loss: 0.5324\n",
      "Epoch 41/100\n",
      "363/363 [==============================] - 1s 2ms/step - loss: 0.5772 - val_loss: 0.5301\n",
      "Epoch 42/100\n",
      "363/363 [==============================] - 1s 2ms/step - loss: 0.5748 - val_loss: 0.5280\n",
      "Epoch 43/100\n",
      "363/363 [==============================] - 1s 2ms/step - loss: 0.5726 - val_loss: 0.5261\n",
      "Epoch 44/100\n",
      "363/363 [==============================] - 1s 2ms/step - loss: 0.5704 - val_loss: 0.5242\n",
      "Epoch 45/100\n",
      "363/363 [==============================] - 1s 2ms/step - loss: 0.5684 - val_loss: 0.5224\n",
      "Epoch 45: early stopping\n"
     ]
    }
   ],
   "source": [
    "history = model_reg_3.fit(X_train, y_train, epochs=100, validation_data=(X_valid, y_valid), callbacks = [es, tensorboard_cv])"
   ]
  },
  {
   "cell_type": "code",
   "execution_count": 29,
   "id": "0179e931-a1e1-42e1-ae64-c3e375146fa6",
   "metadata": {},
   "outputs": [],
   "source": [
    "model_reg_3.save('reg_housing_3.h5')"
   ]
  }
 ],
 "metadata": {
  "kernelspec": {
   "display_name": "Python 3 (ipykernel)",
   "language": "python",
   "name": "python3"
  },
  "language_info": {
   "codemirror_mode": {
    "name": "ipython",
    "version": 3
   },
   "file_extension": ".py",
   "mimetype": "text/x-python",
   "name": "python",
   "nbconvert_exporter": "python",
   "pygments_lexer": "ipython3",
   "version": "3.9.7"
  }
 },
 "nbformat": 4,
 "nbformat_minor": 5
}

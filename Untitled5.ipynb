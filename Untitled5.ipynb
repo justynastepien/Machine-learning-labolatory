{
 "cells": [
  {
   "cell_type": "code",
   "execution_count": 1,
   "id": "e5381f30-329f-4001-b322-b48e19114687",
   "metadata": {},
   "outputs": [],
   "source": [
    "from sklearn.datasets import fetch_openml\n",
    "import numpy as np\n",
    "from sklearn.cluster import KMeans \n",
    "from sklearn.metrics import confusion_matrix\n",
    "import pickle\n",
    "from sklearn.cluster import DBSCAN\n",
    "import matplotlib.pyplot as plt"
   ]
  },
  {
   "cell_type": "code",
   "execution_count": 2,
   "id": "dbccdf34-213b-43cc-bafb-5a0ee8f30499",
   "metadata": {},
   "outputs": [],
   "source": [
    "mnist = fetch_openml('mnist_784', version=1, as_frame = False)\n",
    "mnist.target = mnist.target.astype(np.uint8)\n",
    "X = mnist[\"data\"]\n",
    "y = mnist[\"target\"]"
   ]
  },
  {
   "cell_type": "code",
   "execution_count": 3,
   "id": "2193659e-2571-4f82-a288-549a52a74b85",
   "metadata": {},
   "outputs": [],
   "source": [
    "from sklearn.cluster import KMeans\n",
    "from sklearn.metrics import silhouette_score\n",
    "lista = []\n",
    "for i in {8,9,10,11,12}:\n",
    "    kmeans = KMeans(n_clusters=i, random_state=42)\n",
    "    y_pred = kmeans.fit_predict(X)\n",
    "    if i == 10:\n",
    "        y_pred1 = y_pred\n",
    "    lista.append(silhouette_score(X, kmeans.labels_)) "
   ]
  },
  {
   "cell_type": "code",
   "execution_count": 4,
   "id": "cbe223b8-f047-48a1-896e-858de17dd6ea",
   "metadata": {},
   "outputs": [
    {
     "data": {
      "text/plain": [
       "[0.07338401965925966,\n",
       " 0.05683381826333592,\n",
       " 0.05869201052848778,\n",
       " 0.05836351154790604,\n",
       " 0.05894738457992754]"
      ]
     },
     "execution_count": 4,
     "metadata": {},
     "output_type": "execute_result"
    }
   ],
   "source": [
    "lista"
   ]
  },
  {
   "cell_type": "code",
   "execution_count": 5,
   "id": "025055a6-db06-48c5-9947-11e2c2a6e1b0",
   "metadata": {},
   "outputs": [],
   "source": [
    "f = open(\"kmeans_sil.pkl\", \"wb\")\n",
    "pickle.dump(lista, f)"
   ]
  },
  {
   "cell_type": "code",
   "execution_count": 6,
   "id": "da2ea244-4e79-476d-9eef-5a56e9725901",
   "metadata": {},
   "outputs": [
    {
     "data": {
      "text/plain": [
       "array([[ 290,    8,  323, 4581,    0, 2129,   38,    6, 1212,   87],\n",
       "       [   2, 4293,  423,  449,  178,  155,  190,  372,  335,  261],\n",
       "       [1265,    7,  246,  461,  288, 1812, 2068,   12,  292,   31],\n",
       "       [  39,    7,  216,  193, 3728,  432,   67, 2094,  208, 3462],\n",
       "       [   9,   10, 4863,  216,   29,    7,   53,   53,   53,   19],\n",
       "       [   7,   11,   78,   45, 2173,  215,    4, 4399,  193, 2849],\n",
       "       [ 162,    7,  147,   31,  168,   67, 4326,    4,   51,   16],\n",
       "       [   4, 3526,  436,   58,  234,  280,   45,  314,  330,   95],\n",
       "       [  72,    8,  201, 1083,   17, 1156,   14,   18, 4115,   87],\n",
       "       [5053,    0,   57,   24,    9,   60,   71,   21,   36,   51]],\n",
       "      dtype=int64)"
      ]
     },
     "execution_count": 6,
     "metadata": {},
     "output_type": "execute_result"
    }
   ],
   "source": [
    "matrix = confusion_matrix(y_pred1, y)\n",
    "matrix"
   ]
  },
  {
   "cell_type": "code",
   "execution_count": 7,
   "id": "8be8374f-5c65-4836-81d6-9b9f0fd943f4",
   "metadata": {},
   "outputs": [
    {
     "name": "stdout",
     "output_type": "stream",
     "text": [
      "3\n",
      "1\n",
      "6\n",
      "4\n",
      "2\n",
      "7\n",
      "6\n",
      "1\n",
      "8\n",
      "0\n"
     ]
    }
   ],
   "source": [
    "lista_temp = []\n",
    "for i in range (10):\n",
    "    n = np.argmax(matrix[i])\n",
    "    lista_temp.append(n)\n",
    "    print(n)"
   ]
  },
  {
   "cell_type": "code",
   "execution_count": 8,
   "id": "0df79034-194f-4c15-a4e0-fca77c24d7d3",
   "metadata": {},
   "outputs": [
    {
     "data": {
      "text/plain": [
       "[0, 1, 2, 3, 4, 6, 7, 8]"
      ]
     },
     "execution_count": 8,
     "metadata": {},
     "output_type": "execute_result"
    }
   ],
   "source": [
    "lista3 = list(set(lista_temp))\n",
    "lista3"
   ]
  },
  {
   "cell_type": "code",
   "execution_count": 9,
   "id": "2e3bb89e-07a2-4d87-aefd-acf0dd40e5cd",
   "metadata": {},
   "outputs": [],
   "source": [
    "f1 = open(\"kmeans_argmax.pkl\", \"wb\")\n",
    "pickle.dump(lista3, f1)"
   ]
  },
  {
   "cell_type": "code",
   "execution_count": 10,
   "id": "e0e91d7b-c207-40f1-93fd-85cdac494fd0",
   "metadata": {},
   "outputs": [
    {
     "data": {
      "text/plain": [
       "DBSCAN(eps=1536)"
      ]
     },
     "execution_count": 10,
     "metadata": {},
     "output_type": "execute_result"
    }
   ],
   "source": [
    "dbscan = DBSCAN(eps=1536, min_samples=5)\n",
    "dbscan.fit(X)"
   ]
  },
  {
   "cell_type": "code",
   "execution_count": 11,
   "id": "0e34747a-32b6-47b1-b075-deefe6621d0d",
   "metadata": {},
   "outputs": [
    {
     "name": "stdout",
     "output_type": "stream",
     "text": [
      "[-1  0  0 ...  0  0  0]\n",
      "8\n",
      "4038\n"
     ]
    }
   ],
   "source": [
    "labels = dbscan.labels_\n",
    "\n",
    "n_clusters_ = len(set(labels)) - (1 if -1 in labels else 0)\n",
    "n_noise_ = list(labels).count(-1)\n",
    "print(dbscan.labels_)\n",
    "print(n_clusters_)\n",
    "print(n_noise_)"
   ]
  },
  {
   "cell_type": "code",
   "execution_count": 12,
   "id": "3ec807d3-75bc-4972-beb1-cf762270d554",
   "metadata": {},
   "outputs": [],
   "source": [
    "x = X[:300]"
   ]
  },
  {
   "cell_type": "code",
   "execution_count": 13,
   "id": "0b93fb1d-bb3d-4f02-8395-9c6b9123559b",
   "metadata": {},
   "outputs": [],
   "source": [
    "temp_list1 = []\n",
    "for i in range (300):\n",
    "    for k in range (i, 300):\n",
    "        if np.array_equal(x[i], x[k]): \n",
    "            continue\n",
    "        temp_list1.append(np.linalg.norm(x[i]-x[k]))"
   ]
  },
  {
   "cell_type": "code",
   "execution_count": 14,
   "id": "5813f33c-9f07-497a-9a51-66a72e008225",
   "metadata": {},
   "outputs": [],
   "source": [
    "temp_list1.sort()"
   ]
  },
  {
   "cell_type": "code",
   "execution_count": 15,
   "id": "4e65260f-74fb-42ea-903d-ef7fedd96808",
   "metadata": {},
   "outputs": [
    {
     "data": {
      "text/plain": [
       "[419.583126448145,\n",
       " 524.325280717991,\n",
       " 636.2460215985637,\n",
       " 638.289902787127,\n",
       " 638.4520342202694,\n",
       " 653.3475338592776,\n",
       " 669.5827058698575,\n",
       " 703.4898719953259,\n",
       " 723.5613311945298,\n",
       " 739.4200430066796]"
      ]
     },
     "execution_count": 15,
     "metadata": {},
     "output_type": "execute_result"
    }
   ],
   "source": [
    "list10 = temp_list1[:10]\n",
    "list10"
   ]
  },
  {
   "cell_type": "code",
   "execution_count": 16,
   "id": "ff6507f8-d59e-45ef-b2d2-537547fb0b3a",
   "metadata": {},
   "outputs": [],
   "source": [
    "f2 = open(\"dist.pkl\", \"wb\")\n",
    "pickle.dump(list10, f2)"
   ]
  },
  {
   "cell_type": "code",
   "execution_count": 17,
   "id": "b3e7a2ba-8b89-43a2-b4cf-e6d71de01aed",
   "metadata": {},
   "outputs": [
    {
     "data": {
      "text/plain": [
       "526.7181429215666"
      ]
     },
     "execution_count": 17,
     "metadata": {},
     "output_type": "execute_result"
    }
   ],
   "source": [
    "s = (list10[0] + list10[1] + list10[2])/3.0\n",
    "s"
   ]
  },
  {
   "cell_type": "code",
   "execution_count": 18,
   "id": "c3106dc9-e41b-40b8-9f13-94f0e81f2ae9",
   "metadata": {},
   "outputs": [
    {
     "name": "stdout",
     "output_type": "stream",
     "text": [
      "9\n",
      "11\n",
      "4\n"
     ]
    }
   ],
   "source": [
    "z = s\n",
    "lista5 = []\n",
    "while z <= 1.10*s:\n",
    "    dbscan_x = DBSCAN(eps=z, min_samples=5)\n",
    "    dbscan_x.fit(X)\n",
    "    z += 0.04*s\n",
    "    labels = dbscan_x.labels_\n",
    "    n_clusters = len(set(labels)) - (1 if -1 in labels else 0)\n",
    "    print(n_clusters)\n",
    "    lista5.append(n_clusters)"
   ]
  },
  {
   "cell_type": "code",
   "execution_count": 19,
   "id": "fcacc76f-3e5c-4995-b404-3a94e9b51d22",
   "metadata": {},
   "outputs": [],
   "source": [
    "f3 = open(\"dbscan_len.pkl\", \"wb\")\n",
    "pickle.dump(lista5, f3)"
   ]
  },
  {
   "cell_type": "code",
   "execution_count": null,
   "id": "49f14f22-9489-424f-9185-1fd54f42994c",
   "metadata": {},
   "outputs": [],
   "source": []
  }
 ],
 "metadata": {
  "kernelspec": {
   "display_name": "Python 3 (ipykernel)",
   "language": "python",
   "name": "python3"
  },
  "language_info": {
   "codemirror_mode": {
    "name": "ipython",
    "version": 3
   },
   "file_extension": ".py",
   "mimetype": "text/x-python",
   "name": "python",
   "nbconvert_exporter": "python",
   "pygments_lexer": "ipython3",
   "version": "3.9.7"
  }
 },
 "nbformat": 4,
 "nbformat_minor": 5
}
